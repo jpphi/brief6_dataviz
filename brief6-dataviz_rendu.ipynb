{
 "cells": [
  {
   "cell_type": "markdown",
   "metadata": {},
   "source": [
    "# **Brief 6 - data vizualisation**"
   ]
  },
  {
   "cell_type": "markdown",
   "metadata": {},
   "source": [
    "## **0) Nettoyage du jeux de données**  \n",
    "Un fichier reprenant le frame nettoyer a été créer. Le fichier original a été sauvegardé. Le notebook utilise le nouveau fichier."
   ]
  },
  {
   "cell_type": "code",
   "execution_count": 1,
   "metadata": {},
   "outputs": [],
   "source": [
    "import numpy as np # algèbre linéaire\n",
    "import pandas as pd # procès de données, CSV file I/O (e.g. pd.read_csv)"
   ]
  },
  {
   "cell_type": "markdown",
   "metadata": {},
   "source": [
    "<span style=\"color: #FF0000\">  \n",
    "    \n",
    "**Problème avec de split de wordCloud , remplacer les espaces par des espaces insécables ?** \n",
    "    </span>"
   ]
  },
  {
   "cell_type": "code",
   "execution_count": 2,
   "metadata": {},
   "outputs": [
    {
     "name": "stdout",
     "output_type": "stream",
     "text": [
      "<class 'pandas.core.frame.DataFrame'>\n",
      "RangeIndex: 2603 entries, 0 to 2602\n",
      "Data columns (total 14 columns):\n",
      " #   Column                  Non-Null Count  Dtype  \n",
      "---  ------                  --------------  -----  \n",
      " 0   world_rank              2603 non-null   object \n",
      " 1   university_name         2603 non-null   object \n",
      " 2   country                 2603 non-null   object \n",
      " 3   teaching                2603 non-null   float64\n",
      " 4   international           2603 non-null   object \n",
      " 5   research                2603 non-null   float64\n",
      " 6   citations               2603 non-null   float64\n",
      " 7   income                  2603 non-null   object \n",
      " 8   total_score             2603 non-null   object \n",
      " 9   num_students            2544 non-null   object \n",
      " 10  student_staff_ratio     2544 non-null   float64\n",
      " 11  international_students  2536 non-null   object \n",
      " 12  female_male_ratio       2370 non-null   object \n",
      " 13  year                    2603 non-null   int64  \n",
      "dtypes: float64(4), int64(1), object(9)\n",
      "memory usage: 284.8+ KB\n"
     ]
    }
   ],
   "source": [
    "import pandas as pd\n",
    "\n",
    "# Chargement des données qui seront utilisées.\n",
    "timesData = pd.read_csv(\"data/timesData_Original.csv\")\n",
    "# information about timesData\n",
    "timesData.info()"
   ]
  },
  {
   "cell_type": "code",
   "execution_count": 15,
   "metadata": {},
   "outputs": [
    {
     "name": "stdout",
     "output_type": "stream",
     "text": [
      "Les champs research et citations sont OK\n",
      "Le champs num_students pose 2 problème: Effectif non renseigné et la ',' en sépparation des miliers avec un risque d'interprétation ou 99,345 serait inférieur à 100 !!!\n",
      "0       20152\n",
      "1        2243\n",
      "2       11074\n",
      "3       15596\n",
      "4        7929\n",
      "        ...  \n",
      "2598    21958\n",
      "2599    31268\n",
      "2600     4122\n",
      "2601    10117\n",
      "2602     8663\n",
      "Name: num_students, Length: 2603, dtype: object\n",
      "Le problème de la colonne 'world_rank' n'a pas été résolu. Celle-ci contient soit un nombre soit une      plage de données. On pourrait remplacer cette plage par une moyenne. Ou supprimer mettre à 'none' ce       champs lorsqu'il donnée sous forme de plage.\n",
      "On note que les données non numérique sont automatiquement convertie en Nan \n"
     ]
    }
   ],
   "source": [
    "df_clean=timesData\n",
    "\n",
    "\n",
    "#-------------------------------------------------------------------------------\n",
    "#\n",
    "# Nettoyage des données: remplacer les pays mal orthographié (2 de trouvé)\n",
    "# remplacer les '-' par des Nan\n",
    "#\n",
    "#-------------------------------------------------------------------------------\n",
    "\n",
    "# pays:\n",
    "df_clean[\"country\"]= df_clean[\"country\"].replace({'Unisted States of America':'United States of America',\n",
    "                                                 'Unted Kingdom':'United Kingdom'})\n",
    "#print(df_clean[\"country\"].unique())\n",
    "\n",
    "# income:\n",
    "df_clean[\"income\"]= df_clean[\"income\"].replace({'-':None})\n",
    "#print(df_clean[\"income\"].sort_values())\n",
    "\n",
    "# total_score\n",
    "df_clean[\"total_score\"]= df_clean[\"total_score\"].replace({'-':None})\n",
    "#print(df_clean[\"total_score\"].tail(30))\n",
    "\n",
    "# international\n",
    "df_clean[\"international\"]= df_clean[\"international\"].replace({'-':None})\n",
    "#print(df_clean[\"international\"].head(30))\n",
    "\n",
    "print(\"Les champs research et citations sont OK\")\n",
    "\n",
    "# Le champ num_students\n",
    "print(\"Le champs num_students pose 2 problème: Effectif non renseigné et la ',' en sépparation des miliers \\\n",
    "avec un risque d'interprétation ou 99,345 serait inférieur à 100 !!!\")\n",
    "\n",
    "df_clean.num_students = [str(each).replace(',', '') for each in df_clean.num_students]\n",
    "df_clean.num_students  = [str(each).replace('nan', '') for each in df_clean.num_students]\n",
    "#num_students  = [int(each) for each in num_students ]\n",
    "\n",
    "#print(df_clean.num_students)\n",
    "\n",
    "df_clean.to_csv(\"data/timesData.csv\")\n",
    "\n",
    "print(\"Le problème de la colonne 'world_rank' n'a pas été résolu. Celle-ci contient soit un nombre soit une\\\n",
    "      plage de données. On pourrait remplacer cette plage par une moyenne. Ou supprimer mettre à 'none' ce \\\n",
    "      champs lorsqu'il donnée sous forme de plage.\")\n",
    "print(\"On note que les données non numérique sont automatiquement convertie en Nan \")\n",
    "print(\"La colonne proportion F/H pose égalemetn problème. Il faudrait la remplacer par un float. pour cela \\\n",
    "utilisation de regex pour extraire xx:yy et faire xx/yy\")\n"
   ]
  },
  {
   "cell_type": "markdown",
   "metadata": {},
   "source": [
    "## **Début du brief**"
   ]
  },
  {
   "cell_type": "code",
   "execution_count": null,
   "metadata": {},
   "outputs": [],
   "source": [
    "# plotly\n",
    "# import plotly.plotly as py\n",
    "from plotly.offline import init_notebook_mode, iplot, plot\n",
    "import plotly as py\n",
    "init_notebook_mode(connected=True)\n",
    "import plotly.graph_objs as go\n",
    "\n",
    "# librairie word cloud\n",
    "from wordcloud import WordCloud\n",
    "\n",
    "# librairie matplotlib\n",
    "import matplotlib.pyplot as plt\n",
    "\n",
    "\"\"\"\n",
    "# Permet d'afficher les données disponibles dans le répertoire data\n",
    "import os\n",
    "print(os.listdir(\".\")) \n",
    "\"\"\"\n"
   ]
  },
  {
   "cell_type": "markdown",
   "metadata": {},
   "source": [
    "Contexte du projet\n",
    "Classement des universités\n",
    "\n",
    "Le classement des universités est une pratique difficile, politique et controversée. Il existe des centaines de systèmes de classement universitaires nationaux et internationaux différents, dont beaucoup sont en désaccord les uns avec les autres.\n",
    "\n",
    "Le Times Higher Education World University Ranking est largement considéré comme l'une des mesures universitaires les plus influentes et les plus largement observées. Fondée au Royaume-Uni en 2010, elle a été critiquée pour sa commercialisation et pour avoir \"affaibli\" les établissements non anglophones.\n",
    "\n",
    "\n",
    "ACP\n",
    "\n",
    "Pour vous aider dans votre analyse du jeux de données, vous réaliserez une Analyse en Composantes Principales.\n",
    "\n",
    "Cette analyse permettra de répondre à certaines questions du type : quelles ressemblances peut-il y avoir d'une université à une autre. Quelles ressemblances existent-il entre différents critères d'évaluation des universités ? Vous pourrez ainsi définir quand est-ce que 2 universités se ressemblent et quand est-ce qu'elles se ressemblent du point de vue de l'ensemble des colonnes (c'est-à-dire des critères d'évaluation du Times Higher Education World University Ranking).\n",
    "\n",
    "Est-il possible de faire un bilan des ressemblances ? ( Vous chercherez ici à faire une typologie, une partition des universités, c'est-à-dire à construire des groupes d'universités homogènes du point de vue de l'ensemble des variables. A l'intérieur d'un groupe, les individus se ressemblent et d'un groupe à l'autre ils sont différents.\n",
    "Modalités pédagogiques\n",
    "\n",
    "    Réaliser une veille sur la librairie Dash.\n",
    "\n",
    "    Faire une analyse du jeu de données correspondant au classement des 50 meilleures universités en 2016.\n",
    "\n",
    "    Réaliser une Analyse en Composantes Principales (vous pourrez vous appuyer sur la librairie Scikit-Learn) \n",
    "\n",
    "    Mettre en place un Dashbord Dash multi-pages permettant de répondre à la question initiale : De toutes les universités du monde, quelles sont les meilleures ? La première page de votre Dashbord mettra en évidence l'analyse des données des 50 meilleures universités de l'année 2016 (avant L'ACP).\n",
    "\n",
    "1ère page\n",
    "\n",
    "    Dans cette première page se trouvera notamment une table des données des 50 meilleurs universités de l'année 2016 avec un bouton de téléchargement permettant de télécharger un tableau .csv des données.\n",
    "\n",
    "    Plusieurs graphiques mettant en évidences des corrélations entre certains critères (par exemple : qualité de la recherche en fonction du rand mondial du classement des universités etc..)\n",
    "\n",
    "2eme page\n",
    "\n",
    "Cette page permettra d'afficher les résultats issus de l'ACP. On pourra ainsi y trouver des graphiques ainsi que des paragraphes de textes mettant en évidence des variables explicatives (par exemple la valeur propre, la proportion, le cumulé, les composantes principales (CP), les scores, les distances).\n",
    "\n",
    "    Vous mettrez en ligne votre Dashboard Dash sur le serveur Cloud Heroku\n",
    "\n",
    "Modalités d'évaluation\n",
    "\n",
    "Un rendu individuel est demandé. Vous pourrez travailler en groupe de 5 ou 6. Le rendu final devra être envoyé le vendredi 4 novembre à 15h30.\n"
   ]
  }
 ],
 "metadata": {
  "kernelspec": {
   "display_name": "Python 3",
   "language": "python",
   "name": "python3"
  },
  "language_info": {
   "codemirror_mode": {
    "name": "ipython",
    "version": 3
   },
   "file_extension": ".py",
   "mimetype": "text/x-python",
   "name": "python",
   "nbconvert_exporter": "python",
   "pygments_lexer": "ipython3",
   "version": "3.8.3"
  }
 },
 "nbformat": 4,
 "nbformat_minor": 4
}
